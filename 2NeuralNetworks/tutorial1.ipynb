{
 "cells": [
  {
   "cell_type": "code",
   "execution_count": 1,
   "metadata": {},
   "outputs": [],
   "source": [
    "import torch\n",
    "import torch.nn as nn\n",
    "import numpy as np\n",
    "import matplotlib.pyplot as plt\n",
    "import torchvision\n",
    "import torchvision.transforms as transforms"
   ]
  },
  {
   "cell_type": "code",
   "execution_count": 2,
   "metadata": {},
   "outputs": [],
   "source": [
    "#Load data from MNIST with torchvision\n",
    "train_dataset = torchvision.datasets.MNIST(root='.',\n",
    "                                          train=True,\n",
    "                                          transform=transforms.ToTensor(),\n",
    "                                          download=True)\n",
    "\n"
   ]
  },
  {
   "cell_type": "code",
   "execution_count": 3,
   "metadata": {},
   "outputs": [
    {
     "data": {
      "text/plain": [
       "tensor([[[0, 0, 0,  ..., 0, 0, 0],\n",
       "         [0, 0, 0,  ..., 0, 0, 0],\n",
       "         [0, 0, 0,  ..., 0, 0, 0],\n",
       "         ...,\n",
       "         [0, 0, 0,  ..., 0, 0, 0],\n",
       "         [0, 0, 0,  ..., 0, 0, 0],\n",
       "         [0, 0, 0,  ..., 0, 0, 0]],\n",
       "\n",
       "        [[0, 0, 0,  ..., 0, 0, 0],\n",
       "         [0, 0, 0,  ..., 0, 0, 0],\n",
       "         [0, 0, 0,  ..., 0, 0, 0],\n",
       "         ...,\n",
       "         [0, 0, 0,  ..., 0, 0, 0],\n",
       "         [0, 0, 0,  ..., 0, 0, 0],\n",
       "         [0, 0, 0,  ..., 0, 0, 0]],\n",
       "\n",
       "        [[0, 0, 0,  ..., 0, 0, 0],\n",
       "         [0, 0, 0,  ..., 0, 0, 0],\n",
       "         [0, 0, 0,  ..., 0, 0, 0],\n",
       "         ...,\n",
       "         [0, 0, 0,  ..., 0, 0, 0],\n",
       "         [0, 0, 0,  ..., 0, 0, 0],\n",
       "         [0, 0, 0,  ..., 0, 0, 0]],\n",
       "\n",
       "        ...,\n",
       "\n",
       "        [[0, 0, 0,  ..., 0, 0, 0],\n",
       "         [0, 0, 0,  ..., 0, 0, 0],\n",
       "         [0, 0, 0,  ..., 0, 0, 0],\n",
       "         ...,\n",
       "         [0, 0, 0,  ..., 0, 0, 0],\n",
       "         [0, 0, 0,  ..., 0, 0, 0],\n",
       "         [0, 0, 0,  ..., 0, 0, 0]],\n",
       "\n",
       "        [[0, 0, 0,  ..., 0, 0, 0],\n",
       "         [0, 0, 0,  ..., 0, 0, 0],\n",
       "         [0, 0, 0,  ..., 0, 0, 0],\n",
       "         ...,\n",
       "         [0, 0, 0,  ..., 0, 0, 0],\n",
       "         [0, 0, 0,  ..., 0, 0, 0],\n",
       "         [0, 0, 0,  ..., 0, 0, 0]],\n",
       "\n",
       "        [[0, 0, 0,  ..., 0, 0, 0],\n",
       "         [0, 0, 0,  ..., 0, 0, 0],\n",
       "         [0, 0, 0,  ..., 0, 0, 0],\n",
       "         ...,\n",
       "         [0, 0, 0,  ..., 0, 0, 0],\n",
       "         [0, 0, 0,  ..., 0, 0, 0],\n",
       "         [0, 0, 0,  ..., 0, 0, 0]]], dtype=torch.uint8)"
      ]
     },
     "execution_count": 3,
     "metadata": {},
     "output_type": "execute_result"
    }
   ],
   "source": [
    "train_dataset.data"
   ]
  },
  {
   "cell_type": "code",
   "execution_count": 4,
   "metadata": {},
   "outputs": [
    {
     "data": {
      "text/plain": [
       "torch.Size([60000, 28, 28])"
      ]
     },
     "execution_count": 4,
     "metadata": {},
     "output_type": "execute_result"
    }
   ],
   "source": [
    "# the dimensions should be 60000 images of 28x28 dimension\n",
    "train_dataset.data.shape"
   ]
  },
  {
   "cell_type": "code",
   "execution_count": 5,
   "metadata": {},
   "outputs": [
    {
     "name": "stdout",
     "output_type": "stream",
     "text": [
      "tensor([5, 0, 4,  ..., 5, 6, 8])\n",
      "torch.Size([60000])\n"
     ]
    }
   ],
   "source": [
    "# the targets should be individual labels associated with each image\n",
    "print(train_dataset.targets)\n",
    "print(train_dataset.targets.shape)"
   ]
  },
  {
   "cell_type": "code",
   "execution_count": 6,
   "metadata": {},
   "outputs": [
    {
     "data": {
      "text/plain": [
       "torch.Size([10000, 28, 28])"
      ]
     },
     "execution_count": 6,
     "metadata": {},
     "output_type": "execute_result"
    }
   ],
   "source": [
    "#use torchvision to create the MNIST test dataset\n",
    "test_dataset = torchvision.datasets.MNIST(root='.',\n",
    "                                          train=False,\n",
    "                                          transform=transforms.ToTensor(),\n",
    "                                          download=True)\n",
    "\n",
    "#the dimensions should be a subset of the training dataset\n",
    "test_dataset.data.shape"
   ]
  },
  {
   "cell_type": "code",
   "execution_count": 7,
   "metadata": {},
   "outputs": [],
   "source": [
    "#Build the model:\n",
    "# Just a sequential neural network that receives each of the 28x28 pixels as input\n",
    "# and outputs a vector of size 10 (the number of classes)\n",
    "# Using the ReLU activation function\n",
    "model = nn.Sequential(\n",
    "    nn.Linear(784, 128),\n",
    "    nn.ReLU(),\n",
    "    nn.Linear(128, 10),\n",
    ")\n",
    "# there's no need to explicitly declare the softmax function on the last layer"
   ]
  },
  {
   "cell_type": "code",
   "execution_count": 8,
   "metadata": {},
   "outputs": [
    {
     "name": "stdout",
     "output_type": "stream",
     "text": [
      "Using GPU\n"
     ]
    },
    {
     "data": {
      "text/plain": [
       "Sequential(\n",
       "  (0): Linear(in_features=784, out_features=128, bias=True)\n",
       "  (1): ReLU()\n",
       "  (2): Linear(in_features=128, out_features=10, bias=True)\n",
       ")"
      ]
     },
     "execution_count": 8,
     "metadata": {},
     "output_type": "execute_result"
    }
   ],
   "source": [
    "#use the gpu if it's available with cuda\n",
    "if torch.cuda.is_available():\n",
    "    device = torch.device('cuda')\n",
    "    print('Using GPU')\n",
    "else:\n",
    "    device = torch.device('cpu')\n",
    "    print('Using CPU')\n",
    "\n",
    "# send model to device\n",
    "model.to(device)\n"
   ]
  },
  {
   "cell_type": "code",
   "execution_count": 9,
   "metadata": {},
   "outputs": [
    {
     "name": "stdout",
     "output_type": "stream",
     "text": [
      "cuda\n"
     ]
    }
   ],
   "source": [
    "print(device)"
   ]
  },
  {
   "cell_type": "code",
   "execution_count": 10,
   "metadata": {},
   "outputs": [],
   "source": [
    "# define loss as cross entropy loss and optimizer as Adam\n",
    "criterion = nn.CrossEntropyLoss()\n",
    "optimizer = torch.optim.Adam(model.parameters(), lr=0.001)\n"
   ]
  },
  {
   "cell_type": "code",
   "execution_count": 11,
   "metadata": {},
   "outputs": [],
   "source": [
    "# the dataloader is a built in function that generates training batches\n",
    "# use the pytorch dataloader with a batch size of 128\n",
    "# the train_loader should always be shuffled in order to avoid spurious correlations due to the order of the elements\n",
    "# don't shuffle the data from the test_loader, as there's no need to, because we only want to use it to evaluate the performance of the model\n",
    "batch_size = 128\n",
    "train_loader = torch.utils.data.DataLoader(train_dataset,\n",
    "                                        batch_size=batch_size,\n",
    "                                        shuffle=True)\n",
    "test_loader = torch.utils.data.DataLoader(test_dataset,\n",
    "                                        batch_size=batch_size,\n",
    "                                        shuffle=False)\n",
    "\n",
    "# the dataloader is a generator that yields a bach on each iteration\n",
    "# each batch is a pair of tensors containing a set of data objects, and it's respective targets"
   ]
  },
  {
   "cell_type": "code",
   "execution_count": 12,
   "metadata": {},
   "outputs": [
    {
     "name": "stdout",
     "output_type": "stream",
     "text": [
      "Epoch: 01 | Train Loss: 0.411 | Test Loss: 0.221\n",
      "Epoch: 02 | Train Loss: 0.190 | Test Loss: 0.152\n",
      "Epoch: 03 | Train Loss: 0.138 | Test Loss: 0.119\n",
      "Epoch: 04 | Train Loss: 0.108 | Test Loss: 0.110\n",
      "Epoch: 05 | Train Loss: 0.089 | Test Loss: 0.093\n",
      "Epoch: 06 | Train Loss: 0.074 | Test Loss: 0.091\n",
      "Epoch: 07 | Train Loss: 0.062 | Test Loss: 0.087\n",
      "Epoch: 08 | Train Loss: 0.053 | Test Loss: 0.080\n",
      "Epoch: 09 | Train Loss: 0.046 | Test Loss: 0.077\n",
      "Epoch: 10 | Train Loss: 0.039 | Test Loss: 0.075\n"
     ]
    }
   ],
   "source": [
    "#main training loop\n",
    "# due to the sheer size of the training set, a small number of epochs can be used\n",
    "n_epochs = 10\n",
    "\n",
    "#now create the train and testing losses\n",
    "train_losses = np.zeros(n_epochs)\n",
    "test_losses = np.zeros(n_epochs)\n",
    "\n",
    "#now train the model\n",
    "for epoch in range(n_epochs):\n",
    "    train_loss=[]\n",
    "    #iterate over epochs in train_loader, storing each instance in inputs and targets\n",
    "    for inputs, targets in train_loader:\n",
    "        #move the data to the GPU\n",
    "        inputs, targets = inputs.to(device), targets.to(device)\n",
    "        #reshape the input using the view function\n",
    "        inputs = inputs.view(-1, 28*28)\n",
    "        #zero the gradients\n",
    "        optimizer.zero_grad()\n",
    "        #forward pass\n",
    "        outputs = model(inputs)\n",
    "        #compute the loss\n",
    "        loss = criterion(outputs, targets)\n",
    "        #store the loss in train_loss\n",
    "        train_loss.append(loss.item())\n",
    "        #backward pass\n",
    "        loss.backward()\n",
    "        #update the weights\n",
    "        optimizer.step()\n",
    "    #take the average of the train loss\n",
    "    train_loss = np.mean(train_loss)\n",
    "    #store the train loss\n",
    "    train_losses[epoch] = train_loss\n",
    "\n",
    "    #now do the same for the testing process\n",
    "    test_loss = []\n",
    "    for inputs, targets in test_loader:\n",
    "        inputs, targets = inputs.to(device), targets.to(device)\n",
    "        inputs = inputs.view(-1, 28*28)\n",
    "        outputs = model(inputs)\n",
    "        loss = criterion(outputs, targets)\n",
    "        test_loss.append(loss.item())\n",
    "    #take the average of the testing loss\n",
    "    test_loss = np.mean(test_loss)\n",
    "    #store the testing loss\n",
    "    test_losses[epoch] = test_loss\n",
    "    #print the train and testing loss\n",
    "    print(f\"Epoch: {epoch+1:02} | Train Loss: {train_loss:.3f} | Test Loss: {test_loss:.3f}\")\n",
    "    "
   ]
  },
  {
   "cell_type": "code",
   "execution_count": 13,
   "metadata": {},
   "outputs": [
    {
     "data": {
      "image/png": "[encoded data removed]",
      "text/plain": [
       "<Figure size 640x480 with 1 Axes>"
      ]
     },
     "metadata": {},
     "output_type": "display_data"
    }
   ],
   "source": [
    "#plot the values for train_losses and test_losses on the same graph\n",
    "plt.plot(train_losses, label = \"train_loss\")\n",
    "plt.plot(test_losses, label = \"test_loss\")\n",
    "plt.xlabel(\"Epochs\")\n",
    "plt.ylabel(\"Loss\")\n",
    "plt.legend()\n",
    "plt.show()\n"
   ]
  },
  {
   "cell_type": "code",
   "execution_count": 17,
   "metadata": {},
   "outputs": [
    {
     "data": {
      "text/plain": [
       "0.9916333333333334"
      ]
     },
     "execution_count": 17,
     "metadata": {},
     "output_type": "execute_result"
    }
   ],
   "source": [
    "#calculate the accuracy\n",
    "#initialize the number of correct guesses and the total number of samples as 0\n",
    "num_correct = 0\n",
    "num_total = 0\n",
    "#loop through the data from train_loader, with batches named inputs and targets\n",
    "for inputs, targets in train_loader:\n",
    "    #move the data to the gpu\n",
    "    inputs, targets = inputs.to(device), targets.to(device)\n",
    "    #reshape the input\n",
    "    inputs = inputs.view(-1, 28*28)\n",
    "    #forward pass\n",
    "    outputs = model(inputs)\n",
    "    #get the predicted label\n",
    "    _, predicted = torch.max(outputs.data, 1)\n",
    "    #calculate the number of correct guesses\n",
    "    num_correct += (predicted == targets).sum().item()\n",
    "    #calculate the total number of samples\n",
    "    num_total += targets.shape[0]\n",
    "#calculate the accuracy\n",
    "accuracy = num_correct / num_total\n",
    "accuracy"
   ]
  },
  {
   "cell_type": "code",
   "execution_count": 24,
   "metadata": {},
   "outputs": [
    {
     "data": {
      "text/plain": [
       "0.977"
      ]
     },
     "execution_count": 24,
     "metadata": {},
     "output_type": "execute_result"
    }
   ],
   "source": [
    "#calculate the accuracy of the test set\n",
    "#calculate the accuracy\n",
    "#initialize the number of correct guesses and the total number of samples as 0\n",
    "num_correct = 0\n",
    "num_total = 0\n",
    "#loop through the data from train_loader, with batches named inputs and targets\n",
    "for inputs, targets in test_loader:\n",
    "    #move the data to the gpu\n",
    "    inputs, targets = inputs.to(device), targets.to(device)\n",
    "    #reshape the input\n",
    "    inputs = inputs.view(-1, 28*28)\n",
    "    #forward pass\n",
    "    outputs = model(inputs)\n",
    "    #get the predicted label\n",
    "    _, predicted = torch.max(outputs.data, 1)\n",
    "    #calculate the number of correct guesses\n",
    "    num_correct += (predicted == targets).sum().item()\n",
    "    #calculate the total number of samples\n",
    "    num_total += targets.size(0)\n",
    "#calculate the accuracy\n",
    "accuracy = num_correct / num_total\n",
    "accuracy"
   ]
  },
  {
   "cell_type": "code",
   "execution_count": 32,
   "metadata": {},
   "outputs": [
    {
     "data": {
      "text/plain": [
       "array([[ 970,    0,    0,    3,    1,    1,    2,    1,    2,    0],\n",
       "       [   0, 1127,    2,    1,    0,    1,    2,    0,    2,    0],\n",
       "       [   5,    5,  995,    8,    1,    0,    3,    8,    6,    1],\n",
       "       [   0,    3,    2,  986,    1,    6,    0,    6,    3,    3],\n",
       "       [   0,    0,    2,    1,  956,    0,   10,    5,    1,    7],\n",
       "       [   3,    2,    0,    7,    1,  867,    3,    2,    5,    2],\n",
       "       [   3,    3,    0,    1,    2,    6,  942,    0,    1,    0],\n",
       "       [   2,    4,    8,    0,    0,    0,    0, 1009,    0,    5],\n",
       "       [   3,    1,    2,    5,    5,    4,    4,    4,  942,    4],\n",
       "       [   3,    6,    0,    4,    6,    2,    1,    7,    4,  976]])"
      ]
     },
     "execution_count": 32,
     "metadata": {},
     "output_type": "execute_result"
    }
   ],
   "source": [
    "#get all predictions in an array and plot confusion matrix\n",
    "#import confusion matrix generator from sklearn\n",
    "from sklearn.metrics import confusion_matrix\n",
    "#import confusion matrix display from sklearn\n",
    "from sklearn.metrics import ConfusionMatrixDisplay\n",
    "\n",
    "x_test=test_dataset.data.numpy()\n",
    "y_test=test_dataset.targets.numpy()\n",
    "p_test=np.array([])\n",
    "for inputs, targets in test_loader:\n",
    "    inputs, targets = inputs.to(device), targets.to(device)\n",
    "    #reshape the input data\n",
    "    inputs = inputs.view(-1, 28*28)\n",
    "    #get predictions\n",
    "    outputs = model(inputs)\n",
    "    #convert predictions to probabilities\n",
    "    _, predicted = torch.max(outputs.data, 1)\n",
    "    #update p_test by concatenating the predictions together\n",
    "    p_test = np.concatenate((p_test, predicted.cpu().numpy()))\n",
    "\n",
    "#create confusion matrix\n",
    "cm = confusion_matrix(y_test, p_test)\n",
    "cm"
   ]
  },
  {
   "cell_type": "code",
   "execution_count": 33,
   "metadata": {},
   "outputs": [
    {
     "data": {
      "image/png": "[encoded data removed]",
      "text/plain": [
       "<Figure size 640x480 with 2 Axes>"
      ]
     },
     "metadata": {},
     "output_type": "display_data"
    }
   ],
   "source": [
    "# Create ConfusionMatrixDisplay object\n",
    "disp = ConfusionMatrixDisplay(confusion_matrix=cm)\n",
    "\n",
    "# Plot the confusion matrix\n",
    "disp.plot()\n",
    "plt.title('Confusion Matrix')\n",
    "plt.show()\n"
   ]
  },
  {
   "cell_type": "code",
   "execution_count": 40,
   "metadata": {},
   "outputs": [
    {
     "data": {
      "text/plain": [
       "Text(0.5, 1.0, 'True label: 9, Predicted label: 1')"
      ]
     },
     "execution_count": 40,
     "metadata": {},
     "output_type": "execute_result"
    },
    {
     "data": {
      "image/png": "[encoded data removed]",
      "text/plain": [
       "<Figure size 640x480 with 1 Axes>"
      ]
     },
     "metadata": {},
     "output_type": "display_data"
    }
   ],
   "source": [
    "#let's get some samples of inaccurate predictions and see what's going on\n",
    "#the np.where function returns the index where the given condition is true\n",
    "misclassified_idx = np.where(p_test != y_test)[0]\n",
    "i = np.random.choice(misclassified_idx)\n",
    "#show the image using matplotlib\n",
    "plt.imshow(x_test[i], cmap='gray')\n",
    "#add title with the true label and the predicted label\n",
    "plt.title('True label: %d, Predicted label: %d' % (y_test[i], p_test[i]))"
   ]
  },
  {
   "attachments": {},
   "cell_type": "markdown",
   "metadata": {},
   "source": [
    "It can be clearly seen that the misclassified images are often hard to properly classify even by a human"
   ]
  },
  {
   "attachments": {},
   "cell_type": "markdown",
   "metadata": {},
   "source": []
  }
 ],
 "metadata": {
  "kernelspec": {
   "display_name": "pytorch",
   "language": "python",
   "name": "python3"
  },
  "language_info": {
   "codemirror_mode": {
    "name": "ipython",
    "version": 3
   },
   "file_extension": ".py",
   "mimetype": "text/x-python",
   "name": "python",
   "nbconvert_exporter": "python",
   "pygments_lexer": "ipython3",
   "version": "3.10.11"
  },
  "orig_nbformat": 4
 },
 "nbformat": 4,
 "nbformat_minor": 2
}
